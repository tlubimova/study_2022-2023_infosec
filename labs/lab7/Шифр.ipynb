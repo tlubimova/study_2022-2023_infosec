{
 "cells": [
  {
   "cell_type": "code",
   "execution_count": 1,
   "id": "1ba3f0ce",
   "metadata": {},
   "outputs": [],
   "source": [
    "def main():\n",
    "    dict = {\"а\" :1, \"б\" :2 , \"в\" :3 ,\"г\" :4 ,\"д\" :5 ,\"е\" :6 ,\"ё\" :7 ,\"ж\": 8, \"з\": 9, \"и\": 10, \"й\": 11, \"к\": 12, \"л\": 13, \n",
    "            \"м\": 14, \"н\": 15, \"о\": 16, \"п\": 17, \"р\": 18, \"с\": 19, \"т\": 20, \"у\": 21, \"ф\": 22, \"х\": 23, \"ц\": 24, \"ч\": 25, \n",
    "            \"ш\": 26, \"щ\": 27, \"ъ\": 28, \"ы\": 29, \"ь\": 30, \"э\": 31, \"ю\": 32, \"я\": 32          }\n",
    "    \n",
    "    dict2 = { v : k for k, v in dict.items() }\n",
    "    gamma = input(\"Введите текст гаммы\")\n",
    "    text = input(\"Введите текст для кодирования\").lower()\n",
    "    \n",
    "    digits_text = list()\n",
    "    digits_gamma = list()\n",
    "    \n",
    "    for i in text:\n",
    "        digits_text.append(dict[i])\n",
    "    print(\"Числа текста \", digits_text)\n",
    "    \n",
    "    for i in gamma:\n",
    "        digits_gamma.append(dict[i])\n",
    "    print(\"Числа гаммы\", digits_gamma)\n",
    "    \n",
    "    digits_result = list()\n",
    "    \n",
    "    ch = 0\n",
    "    for i in text:\n",
    "        try:\n",
    "            a = dict[i] + digits_gamma[ch]\n",
    "        except:\n",
    "            ch = 0\n",
    "            a = dict[i] + digits_gamma[ch]\n",
    "        if a > 33:\n",
    "            a = a%33\n",
    "        ch = ch+1\n",
    "        digits_result.append(a)\n",
    "        print(\"Числа шифра \", digits_result)\n",
    "        \n",
    "        text_encr=\"\"\n",
    "        for i in digits_result:\n",
    "            text_encr+=dict2[i]\n",
    "        \n",
    "        print(\"Шифр \", text_encr)\n",
    "        \n",
    "        digits_decr=list()\n",
    "        \n",
    "        for i in text_encr:\n",
    "            digits_decr.append(dict[i])\n",
    "        ch = 0\n",
    "        digits_decr1 = list()\n",
    "        \n",
    "        for i in digits_decr:\n",
    "            a = i - digits_gamma[ch]\n",
    "            if a<1:\n",
    "                a = 33+a\n",
    "            digits_decr1.append(a)\n",
    "            ch=ch+1\n",
    "        \n",
    "        text_decr = \"\"\n",
    "        for i in digits_decr1:\n",
    "            text_decr+=dict2[i]\n",
    "        \n",
    "        print(\"Раскодированный текст \", text_decr)"
   ]
  },
  {
   "cell_type": "code",
   "execution_count": 2,
   "id": "8be95c57",
   "metadata": {},
   "outputs": [
    {
     "name": "stdout",
     "output_type": "stream",
     "text": [
      "Введите текст гаммыпроверка\n",
      "Введите текст для кодированияпроверка\n",
      "Числа текста  [17, 18, 16, 3, 6, 18, 12, 1]\n",
      "Числа гаммы [17, 18, 16, 3, 6, 18, 12, 1]\n",
      "Числа шифра  [1]\n",
      "Шифр  а\n",
      "Раскодированный текст  п\n",
      "Числа шифра  [1, 3]\n",
      "Шифр  ав\n",
      "Раскодированный текст  пр\n",
      "Числа шифра  [1, 3, 32]\n",
      "Шифр  авя\n",
      "Раскодированный текст  про\n",
      "Числа шифра  [1, 3, 32, 6]\n",
      "Шифр  авяе\n",
      "Раскодированный текст  пров\n",
      "Числа шифра  [1, 3, 32, 6, 12]\n",
      "Шифр  авяек\n",
      "Раскодированный текст  прове\n",
      "Числа шифра  [1, 3, 32, 6, 12, 3]\n",
      "Шифр  авяекв\n",
      "Раскодированный текст  провер\n",
      "Числа шифра  [1, 3, 32, 6, 12, 3, 24]\n",
      "Шифр  авяеквц\n",
      "Раскодированный текст  проверк\n",
      "Числа шифра  [1, 3, 32, 6, 12, 3, 24, 2]\n",
      "Шифр  авяеквцб\n",
      "Раскодированный текст  проверка\n"
     ]
    }
   ],
   "source": [
    "main()"
   ]
  },
  {
   "cell_type": "code",
   "execution_count": null,
   "id": "3bb86ded",
   "metadata": {},
   "outputs": [],
   "source": []
  }
 ],
 "metadata": {
  "kernelspec": {
   "display_name": "Python 3 (ipykernel)",
   "language": "python",
   "name": "python3"
  },
  "language_info": {
   "codemirror_mode": {
    "name": "ipython",
    "version": 3
   },
   "file_extension": ".py",
   "mimetype": "text/x-python",
   "name": "python",
   "nbconvert_exporter": "python",
   "pygments_lexer": "ipython3",
   "version": "3.9.9"
  }
 },
 "nbformat": 4,
 "nbformat_minor": 5
}
